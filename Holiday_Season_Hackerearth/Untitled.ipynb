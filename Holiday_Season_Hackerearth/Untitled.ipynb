{
 "cells": [
  {
   "cell_type": "code",
   "execution_count": 1,
   "metadata": {},
   "outputs": [],
   "source": [
    "import pandas as pd\n",
    "import numpy as np\n",
    "import torch\n",
    "from pathlib import Path\n",
    "import shutil\n",
    "import os\n",
    "from keras.preprocessing.image import ImageDataGenerator\n",
    "from keras.models import Sequential,Model\n",
    "import warnings\n",
    "warnings.filterwarnings('ignore')\n",
    "from keras.layers import Activation, Dropout, Flatten, Dense, Conv2D, MaxPooling2D,GlobalAveragePooling2D\n",
    "from keras.optimizers import Adam\n",
    "import cv2\n",
    "from keras import applications\n",
    "import matplotlib.pyplot as plt"
   ]
  },
  {
   "cell_type": "code",
   "execution_count": 2,
   "metadata": {},
   "outputs": [
    {
     "name": "stdout",
     "output_type": "stream",
     "text": [
      "dataset/trainMiscellaneous\n",
      "dataset/trainCandle\n",
      "dataset/trainSnowman\n",
      "dataset/trainAirplane\n",
      "dataset/trainChristmas_Tree\n",
      "dataset/trainJacket\n"
     ]
    }
   ],
   "source": [
    "\n",
    "data=pd.read_csv('dataset/train.csv')\n",
    "folders = data.Class.unique()\n",
    "source = \"dataset/train/\"\n",
    "dest_root = \"dataset/train\"\n",
    "\n",
    "for f in folders:\n",
    "    if not Path(dest_root+f).exists():\n",
    "        print(dest_root+f)\n",
    "        Path(dest_root+f).mkdir(mode=777,parents=False,exist_ok=True)\n",
    "\n",
    "for row in data.itertuples(index=False):\n",
    "    shutil.move(source+row.Image,dest_root+row.Class)"
   ]
  },
  {
   "cell_type": "code",
   "execution_count": 3,
   "metadata": {},
   "outputs": [],
   "source": [
    "def get_random_eraser(input_img, s_l=0.02, s_h=0.4, r_1=0.3, r_2=1/0.3, v_l=0, v_h=255):\n",
    "    img_w, img_h, img_c = input_img.shape\n",
    "    temp=input_img.copy()\n",
    "    while True:\n",
    "        s = np.random.uniform(s_l, s_h) * img_h * img_w\n",
    "        r = np.random.uniform(r_1, r_2)\n",
    "        w = int(np.sqrt(s / r))\n",
    "        h = int(np.sqrt(s * r))\n",
    "        left = np.random.randint(0, img_w)\n",
    "        top = np.random.randint(0, img_h)\n",
    "\n",
    "        if left + w <= img_w and top + h <= img_h:\n",
    "            break\n",
    "            \n",
    "    c = np.random.uniform(v_l, v_h)\n",
    "    temp[top:top + h, left:left + w,:] = c\n",
    "    return temp"
   ]
  },
  {
   "cell_type": "code",
   "execution_count": 14,
   "metadata": {},
   "outputs": [],
   "source": [
    "# for i in x:\n",
    "os.chdir(\"../trainSnowman//\")\n",
    "y=list()\n",
    "y=os.listdir()\n",
    "k=720\n",
    "for j in range(len(y)-1):\n",
    "    n1=cv2.imread(y[j])\n",
    "    n2=cv2.imread(y[j+1])\n",
    "    n11 = cv2.resize(n1, (40,40), interpolation = cv2.INTER_AREA)\n",
    "    n21 = cv2.resize(n2, (40,40), interpolation = cv2.INTER_AREA)\n",
    "    temp=n11*0.6+n21*0.4\n",
    "    temp=temp.astype(\"int\")\n",
    "    name=str(k)+\".jpg\"\n",
    "    cv2.imwrite(name,temp)\n",
    "    k += 1\n",
    "    \n"
   ]
  },
  {
   "cell_type": "code",
   "execution_count": null,
   "metadata": {},
   "outputs": [
    {
     "name": "stderr",
     "output_type": "stream",
     "text": [
      " 88%|████████████████████████████████████████████████████████████████████▊         | 3077/3489 [05:12<00:37, 10.87it/s]"
     ]
    }
   ],
   "source": [
    "import os\n",
    "test_folder = \"dataset/test/\"\n",
    "x = os.listdir(test_folder)\n",
    "\n",
    "# Load Model\n",
    "from lobe import ImageModel\n",
    "from tqdm import tqdm\n",
    "model = ImageModel.load('train TensorFlow/')\n",
    "\n",
    "# Write predictions to CSV file\n",
    "import csv\n",
    "\n",
    "with open('mycsv.csv', 'w', newline='') as csvfile:\n",
    "    filewriter = csv.writer(csvfile, delimiter=',', quotechar='|', quoting=csv.QUOTE_MINIMAL)\n",
    "    filewriter.writerow(['Image','Class'])\n",
    "\n",
    "    for i in tqdm(range(len(x))): \n",
    "        result = model.predict_from_file(test_folder+x[i])\n",
    "        filewriter.writerow([x[i],result.prediction])"
   ]
  },
  {
   "cell_type": "code",
   "execution_count": null,
   "metadata": {},
   "outputs": [],
   "source": []
  }
 ],
 "metadata": {
  "kernelspec": {
   "display_name": "Python 3",
   "language": "python",
   "name": "python3"
  },
  "language_info": {
   "codemirror_mode": {
    "name": "ipython",
    "version": 3
   },
   "file_extension": ".py",
   "mimetype": "text/x-python",
   "name": "python",
   "nbconvert_exporter": "python",
   "pygments_lexer": "ipython3",
   "version": "3.8.5"
  }
 },
 "nbformat": 4,
 "nbformat_minor": 4
}
