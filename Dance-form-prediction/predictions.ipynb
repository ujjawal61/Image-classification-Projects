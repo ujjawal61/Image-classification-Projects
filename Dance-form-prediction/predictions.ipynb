{
 "cells": [
  {
   "cell_type": "code",
   "execution_count": 1,
   "metadata": {},
   "outputs": [
    {
     "name": "stderr",
     "output_type": "stream",
     "text": [
      "Using TensorFlow backend.\n",
      "C:\\ProgramData\\Anaconda3\\lib\\site-packages\\tensorflow\\python\\framework\\dtypes.py:526: FutureWarning: Passing (type, 1) or '1type' as a synonym of type is deprecated; in a future version of numpy, it will be understood as (type, (1,)) / '(1,)type'.\n",
      "  _np_qint8 = np.dtype([(\"qint8\", np.int8, 1)])\n",
      "C:\\ProgramData\\Anaconda3\\lib\\site-packages\\tensorflow\\python\\framework\\dtypes.py:527: FutureWarning: Passing (type, 1) or '1type' as a synonym of type is deprecated; in a future version of numpy, it will be understood as (type, (1,)) / '(1,)type'.\n",
      "  _np_quint8 = np.dtype([(\"quint8\", np.uint8, 1)])\n",
      "C:\\ProgramData\\Anaconda3\\lib\\site-packages\\tensorflow\\python\\framework\\dtypes.py:528: FutureWarning: Passing (type, 1) or '1type' as a synonym of type is deprecated; in a future version of numpy, it will be understood as (type, (1,)) / '(1,)type'.\n",
      "  _np_qint16 = np.dtype([(\"qint16\", np.int16, 1)])\n",
      "C:\\ProgramData\\Anaconda3\\lib\\site-packages\\tensorflow\\python\\framework\\dtypes.py:529: FutureWarning: Passing (type, 1) or '1type' as a synonym of type is deprecated; in a future version of numpy, it will be understood as (type, (1,)) / '(1,)type'.\n",
      "  _np_quint16 = np.dtype([(\"quint16\", np.uint16, 1)])\n",
      "C:\\ProgramData\\Anaconda3\\lib\\site-packages\\tensorflow\\python\\framework\\dtypes.py:530: FutureWarning: Passing (type, 1) or '1type' as a synonym of type is deprecated; in a future version of numpy, it will be understood as (type, (1,)) / '(1,)type'.\n",
      "  _np_qint32 = np.dtype([(\"qint32\", np.int32, 1)])\n",
      "C:\\ProgramData\\Anaconda3\\lib\\site-packages\\tensorflow\\python\\framework\\dtypes.py:535: FutureWarning: Passing (type, 1) or '1type' as a synonym of type is deprecated; in a future version of numpy, it will be understood as (type, (1,)) / '(1,)type'.\n",
      "  np_resource = np.dtype([(\"resource\", np.ubyte, 1)])\n"
     ]
    }
   ],
   "source": [
    "import pandas as pd\n",
    "import numpy as np\n",
    "import matplotlib.pyplot as plt\n",
    "import cv2\n",
    "from keras.preprocessing import image\n",
    "from PIL import Image"
   ]
  },
  {
   "cell_type": "code",
   "execution_count": 2,
   "metadata": {},
   "outputs": [
    {
     "name": "stdout",
     "output_type": "stream",
     "text": [
      "WARNING:tensorflow:From C:\\ProgramData\\Anaconda3\\lib\\site-packages\\tensorflow\\python\\ops\\resource_variable_ops.py:435: colocate_with (from tensorflow.python.framework.ops) is deprecated and will be removed in a future version.\n",
      "Instructions for updating:\n",
      "Colocations handled automatically by placer.\n",
      "WARNING:tensorflow:From C:\\ProgramData\\Anaconda3\\lib\\site-packages\\tensorflow\\python\\keras\\layers\\core.py:143: calling dropout (from tensorflow.python.ops.nn_ops) with keep_prob is deprecated and will be removed in a future version.\n",
      "Instructions for updating:\n",
      "Please use `rate` instead of `keep_prob`. Rate should be set to `rate = 1 - keep_prob`.\n",
      "WARNING:tensorflow:From C:\\ProgramData\\Anaconda3\\lib\\site-packages\\tensorflow\\python\\ops\\math_ops.py:3066: to_int32 (from tensorflow.python.ops.math_ops) is deprecated and will be removed in a future version.\n",
      "Instructions for updating:\n",
      "Use tf.cast instead.\n"
     ]
    }
   ],
   "source": [
    "from tensorflow.keras.models import load_model\n",
    "model=load_model('dance_v2.h5')"
   ]
  },
  {
   "cell_type": "code",
   "execution_count": 3,
   "metadata": {},
   "outputs": [
    {
     "name": "stdout",
     "output_type": "stream",
     "text": [
      "_________________________________________________________________\n",
      "Layer (type)                 Output Shape              Param #   \n",
      "=================================================================\n",
      "conv2d_21 (Conv2D)           (None, 254, 254, 32)      896       \n",
      "_________________________________________________________________\n",
      "max_pooling2d_21 (MaxPooling (None, 127, 127, 32)      0         \n",
      "_________________________________________________________________\n",
      "conv2d_22 (Conv2D)           (None, 125, 125, 64)      18496     \n",
      "_________________________________________________________________\n",
      "max_pooling2d_22 (MaxPooling (None, 62, 62, 64)        0         \n",
      "_________________________________________________________________\n",
      "conv2d_23 (Conv2D)           (None, 60, 60, 64)        36928     \n",
      "_________________________________________________________________\n",
      "max_pooling2d_23 (MaxPooling (None, 30, 30, 64)        0         \n",
      "_________________________________________________________________\n",
      "conv2d_24 (Conv2D)           (None, 28, 28, 64)        36928     \n",
      "_________________________________________________________________\n",
      "max_pooling2d_24 (MaxPooling (None, 14, 14, 64)        0         \n",
      "_________________________________________________________________\n",
      "flatten_6 (Flatten)          (None, 12544)             0         \n",
      "_________________________________________________________________\n",
      "dense_17 (Dense)             (None, 128)               1605760   \n",
      "_________________________________________________________________\n",
      "activation_17 (Activation)   (None, 128)               0         \n",
      "_________________________________________________________________\n",
      "dropout_12 (Dropout)         (None, 128)               0         \n",
      "_________________________________________________________________\n",
      "dense_18 (Dense)             (None, 64)                8256      \n",
      "_________________________________________________________________\n",
      "activation_18 (Activation)   (None, 64)                0         \n",
      "_________________________________________________________________\n",
      "dropout_13 (Dropout)         (None, 64)                0         \n",
      "_________________________________________________________________\n",
      "dense_19 (Dense)             (None, 64)                4160      \n",
      "_________________________________________________________________\n",
      "activation_19 (Activation)   (None, 64)                0         \n",
      "_________________________________________________________________\n",
      "dropout_14 (Dropout)         (None, 64)                0         \n",
      "_________________________________________________________________\n",
      "dense_20 (Dense)             (None, 8)                 520       \n",
      "_________________________________________________________________\n",
      "activation_20 (Activation)   (None, 8)                 0         \n",
      "=================================================================\n",
      "Total params: 1,711,944\n",
      "Trainable params: 1,711,944\n",
      "Non-trainable params: 0\n",
      "_________________________________________________________________\n"
     ]
    }
   ],
   "source": [
    "model.summary()"
   ]
  },
  {
   "cell_type": "code",
   "execution_count": 4,
   "metadata": {},
   "outputs": [],
   "source": [
    "test=pd.read_csv('test.csv')"
   ]
  },
  {
   "cell_type": "code",
   "execution_count": 5,
   "metadata": {},
   "outputs": [
    {
     "data": {
      "text/html": [
       "<div>\n",
       "<style scoped>\n",
       "    .dataframe tbody tr th:only-of-type {\n",
       "        vertical-align: middle;\n",
       "    }\n",
       "\n",
       "    .dataframe tbody tr th {\n",
       "        vertical-align: top;\n",
       "    }\n",
       "\n",
       "    .dataframe thead th {\n",
       "        text-align: right;\n",
       "    }\n",
       "</style>\n",
       "<table border=\"1\" class=\"dataframe\">\n",
       "  <thead>\n",
       "    <tr style=\"text-align: right;\">\n",
       "      <th></th>\n",
       "      <th>Image</th>\n",
       "    </tr>\n",
       "  </thead>\n",
       "  <tbody>\n",
       "    <tr>\n",
       "      <th>0</th>\n",
       "      <td>508.jpg</td>\n",
       "    </tr>\n",
       "    <tr>\n",
       "      <th>1</th>\n",
       "      <td>246.jpg</td>\n",
       "    </tr>\n",
       "    <tr>\n",
       "      <th>2</th>\n",
       "      <td>473.jpg</td>\n",
       "    </tr>\n",
       "    <tr>\n",
       "      <th>3</th>\n",
       "      <td>485.jpg</td>\n",
       "    </tr>\n",
       "    <tr>\n",
       "      <th>4</th>\n",
       "      <td>128.jpg</td>\n",
       "    </tr>\n",
       "  </tbody>\n",
       "</table>\n",
       "</div>"
      ],
      "text/plain": [
       "     Image\n",
       "0  508.jpg\n",
       "1  246.jpg\n",
       "2  473.jpg\n",
       "3  485.jpg\n",
       "4  128.jpg"
      ]
     },
     "execution_count": 5,
     "metadata": {},
     "output_type": "execute_result"
    }
   ],
   "source": [
    "test.head()"
   ]
  },
  {
   "cell_type": "code",
   "execution_count": 6,
   "metadata": {},
   "outputs": [
    {
     "data": {
      "text/plain": [
       "156"
      ]
     },
     "execution_count": 6,
     "metadata": {},
     "output_type": "execute_result"
    }
   ],
   "source": [
    "len(test)"
   ]
  },
  {
   "cell_type": "code",
   "execution_count": 7,
   "metadata": {},
   "outputs": [],
   "source": [
    "x_test=test['Image'].values"
   ]
  },
  {
   "cell_type": "code",
   "execution_count": 8,
   "metadata": {},
   "outputs": [],
   "source": [
    "x_test=list(x_test)"
   ]
  },
  {
   "cell_type": "code",
   "execution_count": 9,
   "metadata": {},
   "outputs": [
    {
     "data": {
      "text/plain": [
       "['508.jpg',\n",
       " '246.jpg',\n",
       " '473.jpg',\n",
       " '485.jpg',\n",
       " '128.jpg',\n",
       " '410.jpg',\n",
       " '465.jpg',\n",
       " '196.jpg',\n",
       " '340.jpg',\n",
       " '467.jpg',\n",
       " '306.jpg',\n",
       " '171.jpg',\n",
       " '323.jpg',\n",
       " '332.jpg',\n",
       " '330.jpg',\n",
       " '170.jpg',\n",
       " '479.jpg',\n",
       " '9.jpg',\n",
       " '283.jpg',\n",
       " '114.jpg',\n",
       " '507.jpg',\n",
       " '183.jpg',\n",
       " '200.jpg',\n",
       " '457.jpg',\n",
       " '264.jpg',\n",
       " '194.jpg',\n",
       " '518.jpg',\n",
       " '175.jpg',\n",
       " '64.jpg',\n",
       " '152.jpg',\n",
       " '270.jpg',\n",
       " '125.jpg',\n",
       " '38.jpg',\n",
       " '440.jpg',\n",
       " '302.jpg',\n",
       " '394.jpg',\n",
       " '448.jpg',\n",
       " '463.jpg',\n",
       " '20.jpg',\n",
       " '301.jpg',\n",
       " '28.jpg',\n",
       " '61.jpg',\n",
       " '398.jpg',\n",
       " '349.jpg',\n",
       " '271.jpg',\n",
       " '286.jpg',\n",
       " '431.jpg',\n",
       " '316.jpg',\n",
       " '224.jpg',\n",
       " '411.jpg',\n",
       " '278.jpg',\n",
       " '456.jpg',\n",
       " '45.jpg',\n",
       " '324.jpg',\n",
       " '6.jpg',\n",
       " '59.jpg',\n",
       " '86.jpg',\n",
       " '470.jpg',\n",
       " '374.jpg',\n",
       " '132.jpg',\n",
       " '216.jpg',\n",
       " '95.jpg',\n",
       " '17.jpg',\n",
       " '162.jpg',\n",
       " '346.jpg',\n",
       " '439.jpg',\n",
       " '232.jpg',\n",
       " '150.jpg',\n",
       " '401.jpg',\n",
       " '145.jpg',\n",
       " '23.jpg',\n",
       " '514.jpg',\n",
       " '193.jpg',\n",
       " '416.jpg',\n",
       " '447.jpg',\n",
       " '220.jpg',\n",
       " '505.jpg',\n",
       " '147.jpg',\n",
       " '210.jpg',\n",
       " '40.jpg',\n",
       " '284.jpg',\n",
       " '55.jpg',\n",
       " '378.jpg',\n",
       " '520.jpg',\n",
       " '484.jpg',\n",
       " '112.jpg',\n",
       " '360.jpg',\n",
       " '317.jpg',\n",
       " '71.jpg',\n",
       " '202.jpg',\n",
       " '92.jpg',\n",
       " '11.jpg',\n",
       " '67.jpg',\n",
       " '138.jpg',\n",
       " '506.jpg',\n",
       " '146.jpg',\n",
       " '318.jpg',\n",
       " '198.jpg',\n",
       " '375.jpg',\n",
       " '41.jpg',\n",
       " '421.jpg',\n",
       " '129.jpg',\n",
       " '14.jpg',\n",
       " '460.jpg',\n",
       " '34.jpg',\n",
       " '380.jpg',\n",
       " '238.jpg',\n",
       " '392.jpg',\n",
       " '80.jpg',\n",
       " '517.jpg',\n",
       " '13.jpg',\n",
       " '189.jpg',\n",
       " '390.jpg',\n",
       " '487.jpg',\n",
       " '438.jpg',\n",
       " '482.jpg',\n",
       " '206.jpg',\n",
       " '217.jpg',\n",
       " '285.jpg',\n",
       " '385.jpg',\n",
       " '495.jpg',\n",
       " '269.jpg',\n",
       " '429.jpg',\n",
       " '291.jpg',\n",
       " '461.jpg',\n",
       " '256.jpg',\n",
       " '48.jpg',\n",
       " '290.jpg',\n",
       " '437.jpg',\n",
       " '498.jpg',\n",
       " '173.jpg',\n",
       " '280.jpg',\n",
       " '119.jpg',\n",
       " '363.jpg',\n",
       " '97.jpg',\n",
       " '414.jpg',\n",
       " '386.jpg',\n",
       " '424.jpg',\n",
       " '157.jpg',\n",
       " '33.jpg',\n",
       " '354.jpg',\n",
       " '57.jpg',\n",
       " '108.jpg',\n",
       " '239.jpg',\n",
       " '441.jpg',\n",
       " '215.jpg',\n",
       " '373.jpg',\n",
       " '292.jpg',\n",
       " '110.jpg',\n",
       " '510.jpg',\n",
       " '275.jpg',\n",
       " '366.jpg',\n",
       " '226.jpg',\n",
       " '35.jpg',\n",
       " '458.jpg',\n",
       " '358.jpg']"
      ]
     },
     "execution_count": 9,
     "metadata": {},
     "output_type": "execute_result"
    }
   ],
   "source": [
    "x_test"
   ]
  },
  {
   "cell_type": "code",
   "execution_count": 10,
   "metadata": {},
   "outputs": [],
   "source": [
    "dict={0:'bharatanatyam',\n",
    " 1:'kathak',\n",
    " 2:'kathakali',\n",
    " 3:'kuchipudi',\n",
    " 4:'manipuri',\n",
    " 5:'mohiniyattam',\n",
    " 6:'odissi',\n",
    " 7:'sattriya'}"
   ]
  },
  {
   "cell_type": "code",
   "execution_count": 11,
   "metadata": {},
   "outputs": [],
   "source": [
    "temp=[] #to save the names of dance forms\n",
    "for i in x_test:\n",
    "    img_path=('test/'+str(i))\n",
    "    img = image.load_img(img_path, target_size=(256,256))\n",
    "    img = image.img_to_array(img)\n",
    "    img = np.expand_dims(img, axis=0)\n",
    "    img = img/255\n",
    "    prediction_prob = (model.predict(img))\n",
    "    pred = list(prediction_prob[0])\n",
    "    prd=pred.index(max(pred))\n",
    "    final_dance=(dict.get(prd))\n",
    "    temp.append(final_dance)\n"
   ]
  },
  {
   "cell_type": "code",
   "execution_count": 12,
   "metadata": {},
   "outputs": [
    {
     "data": {
      "text/plain": [
       "[0.0, 2.9802322e-08, 0.0, 0.0, 0.0, 0.0, 0.0, 0.9999881]"
      ]
     },
     "execution_count": 12,
     "metadata": {},
     "output_type": "execute_result"
    }
   ],
   "source": [
    "pred"
   ]
  },
  {
   "cell_type": "code",
   "execution_count": 87,
   "metadata": {},
   "outputs": [],
   "source": [
    "temp=pd.DataFrame(temp,columns=['target'])\n",
    "df=pd.concat([test,temp],axis=1)"
   ]
  },
  {
   "cell_type": "code",
   "execution_count": 88,
   "metadata": {},
   "outputs": [
    {
     "data": {
      "text/html": [
       "<div>\n",
       "<style scoped>\n",
       "    .dataframe tbody tr th:only-of-type {\n",
       "        vertical-align: middle;\n",
       "    }\n",
       "\n",
       "    .dataframe tbody tr th {\n",
       "        vertical-align: top;\n",
       "    }\n",
       "\n",
       "    .dataframe thead th {\n",
       "        text-align: right;\n",
       "    }\n",
       "</style>\n",
       "<table border=\"1\" class=\"dataframe\">\n",
       "  <thead>\n",
       "    <tr style=\"text-align: right;\">\n",
       "      <th></th>\n",
       "      <th>Image</th>\n",
       "      <th>target</th>\n",
       "    </tr>\n",
       "  </thead>\n",
       "  <tbody>\n",
       "    <tr>\n",
       "      <th>0</th>\n",
       "      <td>508.jpg</td>\n",
       "      <td>odissi</td>\n",
       "    </tr>\n",
       "    <tr>\n",
       "      <th>1</th>\n",
       "      <td>246.jpg</td>\n",
       "      <td>mohiniyattam</td>\n",
       "    </tr>\n",
       "    <tr>\n",
       "      <th>2</th>\n",
       "      <td>473.jpg</td>\n",
       "      <td>odissi</td>\n",
       "    </tr>\n",
       "    <tr>\n",
       "      <th>3</th>\n",
       "      <td>485.jpg</td>\n",
       "      <td>odissi</td>\n",
       "    </tr>\n",
       "    <tr>\n",
       "      <th>4</th>\n",
       "      <td>128.jpg</td>\n",
       "      <td>bharatanatyam</td>\n",
       "    </tr>\n",
       "  </tbody>\n",
       "</table>\n",
       "</div>"
      ],
      "text/plain": [
       "     Image         target\n",
       "0  508.jpg         odissi\n",
       "1  246.jpg   mohiniyattam\n",
       "2  473.jpg         odissi\n",
       "3  485.jpg         odissi\n",
       "4  128.jpg  bharatanatyam"
      ]
     },
     "execution_count": 88,
     "metadata": {},
     "output_type": "execute_result"
    }
   ],
   "source": [
    "df.head()"
   ]
  },
  {
   "cell_type": "code",
   "execution_count": 89,
   "metadata": {},
   "outputs": [],
   "source": [
    "df.to_csv('submission.csv',index=False)"
   ]
  },
  {
   "cell_type": "code",
   "execution_count": null,
   "metadata": {},
   "outputs": [],
   "source": []
  }
 ],
 "metadata": {
  "kernelspec": {
   "display_name": "Python 3",
   "language": "python",
   "name": "python3"
  },
  "language_info": {
   "codemirror_mode": {
    "name": "ipython",
    "version": 3
   },
   "file_extension": ".py",
   "mimetype": "text/x-python",
   "name": "python",
   "nbconvert_exporter": "python",
   "pygments_lexer": "ipython3",
   "version": "3.7.6"
  }
 },
 "nbformat": 4,
 "nbformat_minor": 4
}
